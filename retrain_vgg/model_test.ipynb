{
 "cells": [
  {
   "cell_type": "code",
   "execution_count": null,
   "metadata": {},
   "outputs": [],
   "source": [
    "from keras.models import model_from_yaml\n",
    "import numpy as np\n",
    "import os\n",
    "import cv2\n",
    "from sklearn.metrics import confusion_matrix\n",
    "import matplotlib.pyplot as plt"
   ]
  },
  {
   "cell_type": "code",
   "execution_count": null,
   "metadata": {},
   "outputs": [],
   "source": [
    "# load fine tuned vgg model with data augmentation\n",
    "model_path = \"..\\\\manual_aug_vgg_retrain\\\\Second_trial\\\\fine_tune_VGG_model_aug.yaml\"\n",
    "weights_path = \"..\\\\manual_aug_vgg_retrain\\\\Second_trial\\\\vgg16_weights_aug.h5\"\n",
    "# load YAML and create model\n",
    "yaml_file = open(model_path, 'r')\n",
    "loaded_model_yaml = yaml_file.read()\n",
    "yaml_file.close()\n",
    "loaded_model = model_from_yaml(loaded_model_yaml)\n",
    "# load weights into new model\n",
    "loaded_model.load_weights(weights_path)\n",
    "print(\"Loaded model from disk\")"
   ]
  },
  {
   "cell_type": "code",
   "execution_count": null,
   "metadata": {},
   "outputs": [],
   "source": [
    "loaded_model.compile(loss='categorical_crossentropy', optimizer='rmsprop', metrics=['accuracy'])"
   ]
  },
  {
   "cell_type": "code",
   "execution_count": null,
   "metadata": {},
   "outputs": [],
   "source": [
    "CLASS_LABELS = ['apple','banana','nectarine','plum','peach','watermelon','pear','mango','grape',\n",
    "                'orange','strawberry','pineapple','radish','carrot','potato','tomato','bellpepper',\n",
    "                'broccoli','cabbage','cauliflower','celery','eggplant','garlic','spinach','ginger']"
   ]
  },
  {
   "cell_type": "code",
   "execution_count": null,
   "metadata": {},
   "outputs": [],
   "source": [
    "# load test image\n",
    "data_path = \"test9.jpg\"\n",
    "image_size = 150\n",
    "image = cv2.imread(data_path)\n",
    "\n",
    "def predict_single_image(model, image, class_labels, image_size):   \n",
    "    image = cv2.resize(image, (image_size, image_size))      \n",
    "    image = (image / 255.0) * 2.0 - 1.0\n",
    "    image = np.expand_dims(image, axis=0)\n",
    "    pred = model.predict(image)\n",
    "    class_label = class_labels[np.argmax(pred)]\n",
    "    return class_label\n",
    "\n",
    "class_label = predict_single_image(loaded_model, image, CLASS_LABELS, image_size)\n",
    "print (\"I predict {}\".format(class_label))"
   ]
  },
  {
   "cell_type": "code",
   "execution_count": null,
   "metadata": {},
   "outputs": [],
   "source": []
  }
 ],
 "metadata": {
  "kernelspec": {
   "display_name": "Python (tensorflow-gpu)",
   "language": "python",
   "name": "tensorflow-gpu"
  },
  "language_info": {
   "codemirror_mode": {
    "name": "ipython",
    "version": 3
   },
   "file_extension": ".py",
   "mimetype": "text/x-python",
   "name": "python",
   "nbconvert_exporter": "python",
   "pygments_lexer": "ipython3",
   "version": "3.6.5"
  }
 },
 "nbformat": 4,
 "nbformat_minor": 2
}

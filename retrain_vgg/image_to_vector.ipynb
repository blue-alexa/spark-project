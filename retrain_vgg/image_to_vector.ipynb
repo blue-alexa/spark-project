{
 "cells": [
  {
   "cell_type": "markdown",
   "metadata": {},
   "source": [
    "# Transform image to feature and lable vectors"
   ]
  },
  {
   "cell_type": "code",
   "execution_count": null,
   "metadata": {},
   "outputs": [],
   "source": [
    "import _pickle as pickle\n",
    "import glob\n",
    "import os\n",
    "import numpy as np\n",
    "import cv2"
   ]
  },
  {
   "cell_type": "code",
   "execution_count": null,
   "metadata": {},
   "outputs": [],
   "source": [
    "class data_manager(object):\n",
    "    \n",
    "    def __init__(self, data_dir, class_labels, image_size, set_name):\n",
    "        \n",
    "        self.data_dir = data_dir\n",
    "        \n",
    "        self.class_labels = class_labels\n",
    "        \n",
    "        self.num_class = len(self.class_labels)\n",
    "        \n",
    "        self.image_size = image_size\n",
    "        \n",
    "        self.set_name = set_name\n",
    "        \n",
    "        self.load_set()   \n",
    "        \n",
    "    \n",
    "    def compute_label(self, label):\n",
    "        '''\n",
    "        Compute one-hot labels given the class size\n",
    "        '''    \n",
    "        one_hot = np.zeros(self.num_class)\n",
    "\n",
    "        idx = self.class_labels.index(label)\n",
    "\n",
    "        one_hot[idx] = 1.0\n",
    "\n",
    "        return one_hot\n",
    "\n",
    "\n",
    "    def compute_feature(self, image):\n",
    "        '''\n",
    "        Standardizing pixel value from [0, 255] to [-1, 1].\n",
    "        ''' \n",
    "        image = cv2.resize(image, (self.image_size, self.image_size))\n",
    "        \n",
    "        # image = (image / 255.0) * 2.0 - 1.0\n",
    "\n",
    "        return image      \n",
    "    \n",
    "            \n",
    "    def load_set(self):\n",
    "        \n",
    "        features = []\n",
    "        \n",
    "        label = []\n",
    "        \n",
    "        data_paths = glob.glob(os.path.join(self.data_dir, self.set_name, '*.png'))\n",
    "        \n",
    "        idx = np.arange(len(data_paths))\n",
    "        \n",
    "        np.random.shuffle(idx)\n",
    "\n",
    "        for i in idx:\n",
    "            \n",
    "            data_path = data_paths[i]\n",
    "\n",
    "            fname = os.path.basename(data_path)\n",
    "\n",
    "            img_label = fname.split(\"_\")[0]\n",
    "\n",
    "            if img_label in self.class_labels:\n",
    "\n",
    "                img = cv2.imread(data_path)\n",
    "\n",
    "                label.append(np.expand_dims(self.compute_label(img_label), axis=0))\n",
    "\n",
    "                features.append(np.expand_dims(self.compute_feature(img), axis=0))\n",
    "                \n",
    "        self.X = np.concatenate(features)\n",
    "        \n",
    "        self.Y = np.concatenate(label)\n",
    "        \n",
    "        del features, label\n",
    "        "
   ]
  },
  {
   "cell_type": "code",
   "execution_count": null,
   "metadata": {},
   "outputs": [],
   "source": [
    "data_dir = \".\\\\data\"\n",
    "CLASS_LABELS = ['apple','banana','nectarine','plum','peach','watermelon','pear','mango','grape',\n",
    "                'orange','strawberry','pineapple','radish','carrot','potato','tomato','bellpepper',\n",
    "                'broccoli','cabbage','cauliflower','celery','eggplant','garlic','spinach','ginger']\n",
    "image_size = 150"
   ]
  },
  {
   "cell_type": "code",
   "execution_count": null,
   "metadata": {},
   "outputs": [],
   "source": [
    "dm_train = data_manager(data_dir, CLASS_LABELS, image_size, 'train')\n",
    "print (dm_train.X.shape)\n",
    "print (dm_train.Y.shape)"
   ]
  },
  {
   "cell_type": "code",
   "execution_count": null,
   "metadata": {},
   "outputs": [],
   "source": [
    "np.save(\".\\\\data\\\\X_train.npy\", dm_train.X)\n",
    "np.save(\".\\\\data\\\\Y_train.npy\", dm_train.Y)"
   ]
  },
  {
   "cell_type": "code",
   "execution_count": null,
   "metadata": {},
   "outputs": [],
   "source": [
    "dm_test = data_manager(data_dir, CLASS_LABELS, image_size, 'val')\n",
    "print (dm_test.X.shape)\n",
    "print (dm_test.Y.shape)"
   ]
  },
  {
   "cell_type": "code",
   "execution_count": null,
   "metadata": {},
   "outputs": [],
   "source": [
    "np.save(\".\\\\data\\\\X_test.npy\", dm_test.X)\n",
    "np.save(\".\\\\data\\\\Y_test.npy\", dm_test.Y)"
   ]
  },
  {
   "cell_type": "code",
   "execution_count": null,
   "metadata": {},
   "outputs": [],
   "source": []
  }
 ],
 "metadata": {
  "kernelspec": {
   "display_name": "Python (tensorflow-gpu)",
   "language": "python",
   "name": "tensorflow-gpu"
  },
  "language_info": {
   "codemirror_mode": {
    "name": "ipython",
    "version": 3
   },
   "file_extension": ".py",
   "mimetype": "text/x-python",
   "name": "python",
   "nbconvert_exporter": "python",
   "pygments_lexer": "ipython3",
   "version": "3.6.5"
  }
 },
 "nbformat": 4,
 "nbformat_minor": 2
}

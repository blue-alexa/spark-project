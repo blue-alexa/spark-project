{
 "cells": [
  {
   "cell_type": "markdown",
   "metadata": {},
   "source": [
    "# Using the bottleneck features of a pre-trained network"
   ]
  },
  {
   "cell_type": "markdown",
   "metadata": {},
   "source": [
    "Use VGG16 as pre-trained model\n",
    "\n",
    "Only instantiate the convolutional part of the model, everything up to the fully-connected layers\n",
    "\n",
    "ref: https://blog.keras.io/building-powerful-image-classification-models-using-very-little-data.html"
   ]
  },
  {
   "cell_type": "code",
   "execution_count": null,
   "metadata": {},
   "outputs": [],
   "source": [
    "import numpy as np\n",
    "import matplotlib.pyplot as plt\n",
    "from keras.preprocessing.image import ImageDataGenerator\n",
    "from keras.models import Sequential\n",
    "from keras.layers import Dropout, Flatten, Dense\n",
    "from keras import applications\n",
    "from keras.callbacks import ModelCheckpoint, EarlyStopping"
   ]
  },
  {
   "cell_type": "code",
   "execution_count": null,
   "metadata": {},
   "outputs": [],
   "source": [
    "# Load raw data \n",
    "X_train = np.load(\".\\\\data\\\\X_train.npy\")\n",
    "Y_train = np.load(\".\\\\data\\\\Y_train.npy\")\n",
    "X_test = np.load(\".\\\\data\\\\X_test.npy\")\n",
    "Y_test = np.load(\".\\\\data\\\\Y_test.npy\")\n",
    "print (X_train.shape, Y_train.shape)\n",
    "print (X_test.shape, Y_test.shape)"
   ]
  },
  {
   "cell_type": "code",
   "execution_count": null,
   "metadata": {},
   "outputs": [],
   "source": [
    "# build the VGG16 network\n",
    "model = applications.VGG16(include_top=False, weights='imagenet')"
   ]
  },
  {
   "cell_type": "code",
   "execution_count": null,
   "metadata": {},
   "outputs": [],
   "source": [
    "model.summary()"
   ]
  },
  {
   "cell_type": "code",
   "execution_count": null,
   "metadata": {},
   "outputs": [],
   "source": [
    "# X_train after rescale is too big to fit in memory for bottleneck feature training, load 10000 training samples per batch instead.\n",
    "batch_num = 1\n",
    "while True:\n",
    "    start = (batch_num-1) * 10000\n",
    "    end = start + 10000\n",
    "    if batch_num < 4:\n",
    "        X_train_batch = (X_train[start:end, :, :, :] / 255) * 2.0 - 1.0\n",
    "    else:\n",
    "        X_train_batch = (X_train[start:, :, :, :] / 255) * 2.0 - 1.0       \n",
    "    bottleneck_features_train = model.predict(X_train_batch)\n",
    "    print (bottleneck_features_train.shape)\n",
    "    np.save('bottleneck_features_train_aug_{}.npy'.format(batch_num), bottleneck_features_train)\n",
    "    if batch_num == 4:\n",
    "        break\n",
    "    batch_num += 1\n",
    "    del X_train_batch"
   ]
  },
  {
   "cell_type": "code",
   "execution_count": null,
   "metadata": {},
   "outputs": [],
   "source": [
    "X_test = (X_test / 255) * 2.0 - 1.0 \n",
    "bottleneck_features_validation = model.predict(X_test)\n",
    "np.save('bottleneck_features_validation_aug.npy', bottleneck_features_validation)"
   ]
  },
  {
   "cell_type": "code",
   "execution_count": null,
   "metadata": {},
   "outputs": [],
   "source": [
    "del X_train, Y_train, X_test, Y_test, X_train_batch, bottleneck_features_train, bottleneck_features_validation"
   ]
  },
  {
   "cell_type": "code",
   "execution_count": null,
   "metadata": {},
   "outputs": [],
   "source": [
    "# Load raw data \n",
    "X_train_1 = np.load(\"bottleneck_features_train_aug_1.npy\")\n",
    "X_train_2 = np.load(\"bottleneck_features_train_aug_2.npy\")\n",
    "X_train_3 = np.load(\"bottleneck_features_train_aug_3.npy\")\n",
    "X_train_4 = np.load(\"bottleneck_features_train_aug_4.npy\")\n",
    "train_data = np.vstack((X_train_1, X_train_2, X_train_3, X_train_4))\n",
    "train_data.shape"
   ]
  },
  {
   "cell_type": "code",
   "execution_count": null,
   "metadata": {},
   "outputs": [],
   "source": [
    "train_labels = np.load(\".\\\\data\\\\Y_train.npy\")\n",
    "validation_labels = np.load(\".\\\\data\\\\Y_test.npy\")\n",
    "print (train_labels.shape, validation_labels.shape)"
   ]
  },
  {
   "cell_type": "code",
   "execution_count": null,
   "metadata": {},
   "outputs": [],
   "source": [
    "validation_data = np.load('bottleneck_features_validation_aug.npy')\n",
    "print (validation_data.shape)"
   ]
  },
  {
   "cell_type": "code",
   "execution_count": null,
   "metadata": {},
   "outputs": [],
   "source": [
    "top_model_weights_path = 'bottleneck_fc_model_aug.h5'\n",
    "epochs = 10\n",
    "batch_size = 64"
   ]
  },
  {
   "cell_type": "code",
   "execution_count": null,
   "metadata": {},
   "outputs": [],
   "source": [
    "model = Sequential()\n",
    "model.add(Flatten(input_shape=train_data.shape[1:]))\n",
    "model.add(Dense(256, activation='relu'))\n",
    "model.add(Dropout(0.5))\n",
    "model.add(Dense(25, activation='sigmoid'))\n",
    "\n",
    "# add checkpoint to save best model\n",
    "checkpoint = ModelCheckpoint(top_model_weights_path, monitor='val_acc', verbose=1, save_best_only=True, mode='max')\n",
    "# check 5 epochs\n",
    "early_stop = EarlyStopping(monitor='val_acc', patience=5, mode='max')\n",
    "callbacks_list = [checkpoint, early_stop]\n",
    "\n",
    "model.compile(optimizer='rmsprop',\n",
    "              loss='categorical_crossentropy', metrics=['accuracy'])\n",
    "\n",
    "history = model.fit(train_data, train_labels,\n",
    "                  epochs=epochs,\n",
    "                  batch_size=batch_size,\n",
    "                  validation_data=(validation_data, validation_labels), \n",
    "                  callbacks=callbacks_list)"
   ]
  },
  {
   "cell_type": "code",
   "execution_count": null,
   "metadata": {},
   "outputs": [],
   "source": [
    "# summarize history for accuracy\n",
    "plt.plot(history.history['acc'])\n",
    "plt.plot(history.history['val_acc'])\n",
    "plt.title('model accuracy')\n",
    "plt.ylabel('accuracy')\n",
    "plt.xlabel('epoch')\n",
    "plt.legend(['train', 'test'], loc='upper left')\n",
    "#plt.show()\n",
    "plt.savefig(\"VGG_bottleneck_acc_history_aug.png\")"
   ]
  },
  {
   "cell_type": "code",
   "execution_count": null,
   "metadata": {},
   "outputs": [],
   "source": [
    "# summarize history for loss\n",
    "plt.plot(history.history['loss'])\n",
    "plt.plot(history.history['val_loss'])\n",
    "plt.title('model loss')\n",
    "plt.ylabel('loss')\n",
    "plt.xlabel('epoch')\n",
    "plt.legend(['train', 'test'], loc='upper left')\n",
    "#plt.show()\n",
    "plt.savefig(\"VGG_bottleneck_loss_history_aug.png\")"
   ]
  }
 ],
 "metadata": {
  "kernelspec": {
   "display_name": "Python (tensorflow-gpu)",
   "language": "python",
   "name": "tensorflow-gpu"
  },
  "language_info": {
   "codemirror_mode": {
    "name": "ipython",
    "version": 3
   },
   "file_extension": ".py",
   "mimetype": "text/x-python",
   "name": "python",
   "nbconvert_exporter": "python",
   "pygments_lexer": "ipython3",
   "version": "3.6.5"
  }
 },
 "nbformat": 4,
 "nbformat_minor": 2
}

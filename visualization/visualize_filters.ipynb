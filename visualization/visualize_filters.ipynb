{
 "cells": [
  {
   "cell_type": "code",
   "execution_count": 2,
   "metadata": {
    "collapsed": true
   },
   "outputs": [],
   "source": [
    "import _pickle as pickle\n",
    "import numpy as np\n",
    "import os\n",
    "import matplotlib.pyplot as plt"
   ]
  },
  {
   "cell_type": "code",
   "execution_count": 3,
   "metadata": {},
   "outputs": [
    {
     "name": "stdout",
     "output_type": "stream",
     "text": [
      "(27392, 150, 150, 3) (27392, 25)\n",
      "(3076, 150, 150, 3) (3076, 25)\n"
     ]
    }
   ],
   "source": [
    "# Load raw data \n",
    "X_train = np.load(\"data\\\\X_train.npy\")\n",
    "Y_train = np.load(\"data\\\\Y_train.npy\")\n",
    "X_test = np.load(\"data\\\\X_test.npy\")\n",
    "Y_test = np.load(\"data\\\\Y_test.npy\")\n",
    "print (X_train.shape, Y_train.shape)\n",
    "print (X_test.shape, Y_test.shape)"
   ]
  },
  {
   "cell_type": "code",
   "execution_count": 4,
   "metadata": {
    "collapsed": true
   },
   "outputs": [],
   "source": [
    "# Rescale features\n",
    "X_train = (X_train / 255) * 2.0 - 1.0\n",
    "X_test = (X_test / 255) * 2.0 - 1.0 "
   ]
  },
  {
   "cell_type": "code",
   "execution_count": 5,
   "metadata": {},
   "outputs": [
    {
     "name": "stderr",
     "output_type": "stream",
     "text": [
      "Using TensorFlow backend.\n"
     ]
    }
   ],
   "source": [
    "import keras\n",
    "from keras.layers import Input, Dense, Dropout, Flatten, MaxPooling2D, MaxPooling1D, Conv2D\n",
    "from keras.models import Model, Sequential, model_from_yaml \n",
    "from keras import applications, optimizers\n",
    "from keras.applications.vgg16 import VGG16"
   ]
  },
  {
   "cell_type": "code",
   "execution_count": 84,
   "metadata": {},
   "outputs": [
    {
     "name": "stdout",
     "output_type": "stream",
     "text": [
      "Loaded model from disk\n",
      "Layer dict {'input_1': <keras.engine.topology.InputLayer object at 0x517f2fef0>, 'block1_conv1': <keras.layers.convolutional.Conv2D object at 0x5316dc7f0>, 'block1_conv2': <keras.layers.convolutional.Conv2D object at 0x5337072e8>, 'block1_pool': <keras.layers.pooling.MaxPooling2D object at 0x517f2ff98>, 'block2_conv1': <keras.layers.convolutional.Conv2D object at 0x533842198>, 'block2_conv2': <keras.layers.convolutional.Conv2D object at 0x5337ae0b8>, 'block2_pool': <keras.layers.pooling.MaxPooling2D object at 0x53383fc50>, 'block3_conv1': <keras.layers.convolutional.Conv2D object at 0x533881c50>, 'block3_conv2': <keras.layers.convolutional.Conv2D object at 0x5338baeb8>, 'block3_conv3': <keras.layers.convolutional.Conv2D object at 0x5338f4630>, 'block3_pool': <keras.layers.pooling.MaxPooling2D object at 0x5338a6d30>, 'block4_conv1': <keras.layers.convolutional.Conv2D object at 0x5338fcef0>, 'block4_conv2': <keras.layers.convolutional.Conv2D object at 0x5338e07f0>, 'block4_conv3': <keras.layers.convolutional.Conv2D object at 0x5338fcd30>, 'block4_pool': <keras.layers.pooling.MaxPooling2D object at 0x533923240>, 'block5_conv1': <keras.layers.convolutional.Conv2D object at 0x53389c828>, 'block5_conv2': <keras.layers.convolutional.Conv2D object at 0x53392d470>, 'block5_conv3': <keras.layers.convolutional.Conv2D object at 0x53402bcf8>, 'block5_pool': <keras.layers.pooling.MaxPooling2D object at 0x53402b630>, 'sequential_4': <keras.models.Sequential object at 0x533936518>}\n",
      "_________________________________________________________________\n",
      "Layer (type)                 Output Shape              Param #   \n",
      "=================================================================\n",
      "input_1 (InputLayer)         (None, 150, 150, 3)       0         \n",
      "_________________________________________________________________\n",
      "block1_conv1 (Conv2D)        (None, 150, 150, 64)      1792      \n",
      "_________________________________________________________________\n",
      "block1_conv2 (Conv2D)        (None, 150, 150, 64)      36928     \n",
      "_________________________________________________________________\n",
      "block1_pool (MaxPooling2D)   (None, 75, 75, 64)        0         \n",
      "_________________________________________________________________\n",
      "block2_conv1 (Conv2D)        (None, 75, 75, 128)       73856     \n",
      "_________________________________________________________________\n",
      "block2_conv2 (Conv2D)        (None, 75, 75, 128)       147584    \n",
      "_________________________________________________________________\n",
      "block2_pool (MaxPooling2D)   (None, 37, 37, 128)       0         \n",
      "_________________________________________________________________\n",
      "block3_conv1 (Conv2D)        (None, 37, 37, 256)       295168    \n",
      "_________________________________________________________________\n",
      "block3_conv2 (Conv2D)        (None, 37, 37, 256)       590080    \n",
      "_________________________________________________________________\n",
      "block3_conv3 (Conv2D)        (None, 37, 37, 256)       590080    \n",
      "_________________________________________________________________\n",
      "block3_pool (MaxPooling2D)   (None, 18, 18, 256)       0         \n",
      "_________________________________________________________________\n",
      "block4_conv1 (Conv2D)        (None, 18, 18, 512)       1180160   \n",
      "_________________________________________________________________\n",
      "block4_conv2 (Conv2D)        (None, 18, 18, 512)       2359808   \n",
      "_________________________________________________________________\n",
      "block4_conv3 (Conv2D)        (None, 18, 18, 512)       2359808   \n",
      "_________________________________________________________________\n",
      "block4_pool (MaxPooling2D)   (None, 9, 9, 512)         0         \n",
      "_________________________________________________________________\n",
      "block5_conv1 (Conv2D)        (None, 9, 9, 512)         2359808   \n",
      "_________________________________________________________________\n",
      "block5_conv2 (Conv2D)        (None, 9, 9, 512)         2359808   \n",
      "_________________________________________________________________\n",
      "block5_conv3 (Conv2D)        (None, 9, 9, 512)         2359808   \n",
      "_________________________________________________________________\n",
      "block5_pool (MaxPooling2D)   (None, 4, 4, 512)         0         \n",
      "_________________________________________________________________\n",
      "sequential_4 (Sequential)    (None, 25)                2103833   \n",
      "=================================================================\n",
      "Total params: 16,818,521\n",
      "Trainable params: 2,103,833\n",
      "Non-trainable params: 14,714,688\n",
      "_________________________________________________________________\n",
      "None\n"
     ]
    }
   ],
   "source": [
    "from keras.models import Sequential, load_model\n",
    "weights_path = 'VGG16_weights_aug.h5'\n",
    "# load json and create model\n",
    "yaml_file = open('fine_tune_VGG_model_aug.yaml', 'r')\n",
    "loaded_model_yaml = yaml_file.read()\n",
    "yaml_file.close()\n",
    "model = model_from_yaml(loaded_model_yaml)\n",
    "model.compile(optimizer='rmsprop',\n",
    "              loss='categorical_crossentropy', metrics=['accuracy'])\n",
    "model.load_weights(weights_path)\n",
    "\n",
    "print(\"Loaded model from disk\")\n",
    "layer_dict = dict([(layer.name, layer) for layer in model.layers])\n",
    "print('Layer dict', layer_dict)\n",
    "print(model.summary())"
   ]
  },
  {
   "cell_type": "markdown",
   "metadata": {},
   "source": [
    "# Visualize filter implementation"
   ]
  },
  {
   "cell_type": "code",
   "execution_count": 1,
   "metadata": {},
   "outputs": [
    {
     "name": "stderr",
     "output_type": "stream",
     "text": [
      "Using TensorFlow backend.\n"
     ]
    },
    {
     "ename": "NameError",
     "evalue": "name 'np' is not defined",
     "output_type": "error",
     "traceback": [
      "\u001b[0;31m---------------------------------------------------------------------------\u001b[0m",
      "\u001b[0;31mNameError\u001b[0m                                 Traceback (most recent call last)",
      "\u001b[0;32m<ipython-input-1-1cabdf129869>\u001b[0m in \u001b[0;36m<module>\u001b[0;34m()\u001b[0m\n\u001b[1;32m     21\u001b[0m     \u001b[0;32mreturn\u001b[0m \u001b[0mx\u001b[0m\u001b[0;34m\u001b[0m\u001b[0m\n\u001b[1;32m     22\u001b[0m \u001b[0;34m\u001b[0m\u001b[0m\n\u001b[0;32m---> 23\u001b[0;31m def visualize_filter(img = np.array(X_test[0].reshape((-1, 150, 150, 3)).astype(np.float64)), \n\u001b[0m\u001b[1;32m     24\u001b[0m                      layer_name = 'block2_conv2'):\n\u001b[1;32m     25\u001b[0m     \u001b[0mlayer_output\u001b[0m \u001b[0;34m=\u001b[0m \u001b[0mlayer_dict\u001b[0m\u001b[0;34m[\u001b[0m\u001b[0mlayer_name\u001b[0m\u001b[0;34m]\u001b[0m\u001b[0;34m.\u001b[0m\u001b[0moutput\u001b[0m\u001b[0;34m\u001b[0m\u001b[0m\n",
      "\u001b[0;31mNameError\u001b[0m: name 'np' is not defined"
     ]
    }
   ],
   "source": [
    "from keras import backend as K\n",
    "K.set_learning_phase(1)\n",
    "\n",
    "from keras.preprocessing import image\n",
    "apple_img = image.img_to_array(image.load_img(path=\"data/train/apple_0.png\",\n",
    "                                              target_size=(150,150,3))).reshape((-1,150,150,3))\n",
    "\n",
    "def normalize_image(x):\n",
    "    # normalize tensor: center on 0., ensure std is 0.1\n",
    "    x -= x.mean()\n",
    "    x /= (x.std() + 1e-5)\n",
    "    x *= 0.1\n",
    "\n",
    "    # clip to [0, 1]\n",
    "    x += 0.5\n",
    "    x = np.clip(x, 0, 1)\n",
    "\n",
    "    # convert to RGB array\n",
    "    x *= 255\n",
    "    x = np.clip(x, 0, 255).astype('uint8')\n",
    "    return x\n",
    "\n",
    "def visualize_filter(img = np.array(X_test[0].reshape((-1, 150, 150, 3)).astype(np.float64)), \n",
    "                     layer_name = 'block2_conv2'):\n",
    "    layer_output = layer_dict[layer_name].output\n",
    "    print(img.shape)\n",
    "    img_ascs = list()\n",
    "    for filter_index in range(layer_output.shape[3]):\n",
    "        if filter_index > 35:\n",
    "            break\n",
    "        # build a loss function that maximizes the activation\n",
    "        # of the nth filter of the layer considered\n",
    "        loss = K.mean(layer_output[:, :, :, filter_index])\n",
    "\n",
    "        # compute the gradient of the input picture wrt this loss\n",
    "        grads = K.gradients(loss, model.input)[0]\n",
    "\n",
    "        # normalization trick: we normalize the gradient\n",
    "        grads /= (K.sqrt(K.mean(K.square(grads))) + 1e-5)\n",
    "\n",
    "        # this function returns the loss and grads given the input picture\n",
    "        iterate = K.function([model.input], [loss, grads])\n",
    "\n",
    "        # step size for gradient ascent\n",
    "        step = 5.\n",
    "\n",
    "        img_asc = np.array(img)\n",
    "        # run gradient ascent for 20 steps\n",
    "        for i in range(20):\n",
    "            loss_value, grads_value = iterate([img_asc])\n",
    "            img_asc += grads_value * step\n",
    "        img_asc = img_asc[0]\n",
    "        img_ascs.append(normalize_image(img_asc).reshape((150, 150,3)))\n",
    "        \n",
    "    if layer_output.shape[3] >= 35:\n",
    "        plot_x, plot_y = 6, 6\n",
    "    elif layer_output.shape[3] >= 23:\n",
    "        plot_x, plot_y = 4, 6\n",
    "    elif layer_output.shape[3] >= 11:\n",
    "        plot_x, plot_y = 2, 6\n",
    "    else:\n",
    "        plot_x, plot_y = 1, 2\n",
    "    fig, ax = plt.subplots(plot_x, plot_y, figsize = (12, 12))\n",
    "    ax[0, 0].imshow(img.reshape((150, 150,3)))\n",
    "    ax[0, 0].set_title('Input image')\n",
    "    fig.suptitle('Input image and %s filters' % (layer_name,))\n",
    "    fig.tight_layout(pad = 0.3, rect = [0, 0, 0.9, 0.9])\n",
    "    for (x, y) in [(i, j) for i in range(plot_x) for j in range(plot_y)]:\n",
    "        if x == 0 and y == 0:\n",
    "            continue\n",
    "        try:\n",
    "            an_img = img_ascs[x * plot_y + y - 1]\n",
    "        except:\n",
    "            break\n",
    "        ax[x, y].imshow(an_img, cmap = 'gray')\n",
    "        ax[x, y].set_title('filter %d' % (x * plot_y + y - 1))\n",
    "\n",
    "visualize_filter(apple_img)\n",
    "plt.show()"
   ]
  },
  {
   "cell_type": "code",
   "execution_count": null,
   "metadata": {
    "collapsed": true
   },
   "outputs": [],
   "source": []
  }
 ],
 "metadata": {
  "kernelspec": {
   "display_name": "Python 3",
   "language": "python",
   "name": "python3"
  },
  "language_info": {
   "codemirror_mode": {
    "name": "ipython",
    "version": 3
   },
   "file_extension": ".py",
   "mimetype": "text/x-python",
   "name": "python",
   "nbconvert_exporter": "python",
   "pygments_lexer": "ipython3",
   "version": "3.6.3"
  }
 },
 "nbformat": 4,
 "nbformat_minor": 2
}
